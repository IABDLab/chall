{
 "cells": [
  {
   "cell_type": "code",
   "execution_count": 1,
   "metadata": {
    "collapsed": true
   },
   "outputs": [],
   "source": [
    "import pandas as pd\n",
    "import matplotlib.pyplot as plt\n",
    "import seaborn as sns \n",
    "%matplotlib inline\n",
    "from sklearn.model_selection import train_test_split\n",
    "import numpy as np"
   ]
  },
  {
   "cell_type": "code",
   "execution_count": 2,
   "metadata": {
    "collapsed": true
   },
   "outputs": [],
   "source": [
    "ssts = pd.read_csv('Submmit_Sample_testing_Set.csv')\n",
    "tbxi = pd.read_csv('test_buy_x_info.csv')\n",
    "tcxi = pd.read_csv('test_cust_x_info.csv')\n",
    "ttxi = pd.read_csv('test_tpy_x_info.csv')\n",
    "tbi = pd.read_csv('train_buy_info.csv')\n",
    "tci = pd.read_csv('train_cust_info.csv')\n",
    "tti = pd.read_csv('train_tpy_info.csv')"
   ]
  },
  {
   "cell_type": "markdown",
   "metadata": {},
   "source": [
    "# 上下合併訓練資料集跟測試資料集"
   ]
  },
  {
   "cell_type": "code",
   "execution_count": 3,
   "metadata": {},
   "outputs": [
    {
     "name": "stderr",
     "output_type": "stream",
     "text": [
      "/Users/charles/anaconda3/lib/python3.6/site-packages/ipykernel_launcher.py:1: FutureWarning: Sorting because non-concatenation axis is not aligned. A future version\n",
      "of pandas will change to not sort by default.\n",
      "\n",
      "To accept the future behavior, pass 'sort=True'.\n",
      "\n",
      "To retain the current behavior and silence the warning, pass sort=False\n",
      "\n",
      "  \"\"\"Entry point for launching an IPython kernel.\n"
     ]
    }
   ],
   "source": [
    "a = pd.concat([tbi,tbxi], axis=0)\n",
    "b = pd.concat([tci,tcxi], axis=0)\n",
    "c = pd.concat([tti,ttxi], axis=0)"
   ]
  },
  {
   "cell_type": "markdown",
   "metadata": {},
   "source": [
    "# 昱萱超棒把該死ㄉ雞婆ㄉ東西給搞好ㄌ"
   ]
  },
  {
   "cell_type": "code",
   "execution_count": 4,
   "metadata": {},
   "outputs": [
    {
     "name": "stderr",
     "output_type": "stream",
     "text": [
      "/Users/charles/anaconda3/lib/python3.6/site-packages/ipykernel_launcher.py:1: FutureWarning: '.reindex_axis' is deprecated and will be removed in a future version. Use '.reindex' instead.\n",
      "  \"\"\"Entry point for launching an IPython kernel.\n",
      "/Users/charles/anaconda3/lib/python3.6/site-packages/ipykernel_launcher.py:2: FutureWarning: '.reindex_axis' is deprecated and will be removed in a future version. Use '.reindex' instead.\n",
      "  \n",
      "/Users/charles/anaconda3/lib/python3.6/site-packages/ipykernel_launcher.py:3: FutureWarning: '.reindex_axis' is deprecated and will be removed in a future version. Use '.reindex' instead.\n",
      "  This is separate from the ipykernel package so we can avoid doing imports until\n"
     ]
    }
   ],
   "source": [
    "tbi = a.reindex_axis(tbi.columns, axis=1)\n",
    "tci = b.reindex_axis(tci.columns, axis=1)\n",
    "tti = c.reindex_axis(tti.columns, axis=1)"
   ]
  },
  {
   "cell_type": "markdown",
   "metadata": {},
   "source": [
    "# 把職業變成大類別"
   ]
  },
  {
   "cell_type": "code",
   "execution_count": 5,
   "metadata": {
    "collapsed": true
   },
   "outputs": [],
   "source": [
    "occ = pd.DataFrame(tbi['OCCUPATION'])\n",
    "result = occ['OCCUPATION'].str.split('([a-z]+)([0-9]+)', expand=True)\n",
    "result = result.loc[:,[1,2]]\n",
    "result.rename(columns={1:'x', 2:'y'}, inplace=True)\n",
    "result['x'].value_counts() #22\n",
    "tbi['OCCUPATION'] = result['x']"
   ]
  },
  {
   "cell_type": "markdown",
   "metadata": {},
   "source": [
    "# 合併所有資料"
   ]
  },
  {
   "cell_type": "code",
   "execution_count": 6,
   "metadata": {
    "collapsed": true
   },
   "outputs": [],
   "source": [
    "train = tbi.merge(tci, on = 'CUST_ID')\n",
    "train = train.merge(tti, on = 'CUST_ID')"
   ]
  },
  {
   "cell_type": "markdown",
   "metadata": {},
   "source": [
    "# 插補<br>\n",
    "# 依照現有欄位分佈去做補值"
   ]
  },
  {
   "cell_type": "code",
   "execution_count": 7,
   "metadata": {
    "collapsed": true
   },
   "outputs": [],
   "source": [
    "train = train.drop(['STATUS1', 'STATUS2', 'STATUS3', 'STATUS4', 'INTEREST1', 'INTEREST2', 'INTEREST3', 'INTEREST4', 'INTEREST5', 'INTEREST6', 'INTEREST7', 'INTEREST8', 'INTEREST9', 'INTEREST10'], axis=1)\n",
    "train = train.drop(['IS_NEWSLETTER'], axis = 1)\n",
    "train['HEIGHT'].fillna(train['HEIGHT'].mean(), inplace = True)\n",
    "train['WEIGHT'].fillna(train['WEIGHT'].mean(), inplace = True)\n",
    "fill_list = ['a', 'b', 'c']\n",
    "train['BEHAVIOR_1'] = train['BEHAVIOR_1'].fillna(pd.Series(np.random.choice(fill_list, size=len(train.index))))\n",
    "train['BEHAVIOR_2'] = train['BEHAVIOR_2'].fillna(pd.Series(np.random.choice(fill_list, size=len(train.index))))\n",
    "train['BEHAVIOR_3'] = train['BEHAVIOR_3'].fillna(pd.Series(np.random.choice(fill_list, size=len(train.index))))\n",
    "fill=['a','b']\n",
    "train['IS_EMAIL'] = train['IS_EMAIL'].fillna(pd.Series(np.random.choice(fill, size=len(train.index))))\n",
    "train['IS_PHONE'] = train['IS_PHONE'].fillna(pd.Series(np.random.choice(fill, size=len(train.index))))\n",
    "train['IS_APP'] = train['IS_APP'].fillna(pd.Series(np.random.choice(fill, size=len(train.index))))\n",
    "train['IS_SPECIALMEMBER'] = train['IS_SPECIALMEMBER'].fillna(pd.Series(np.random.choice(fill, size=len(train.index))))\n",
    "train['CHARGE_WAY'] = train['CHARGE_WAY'].fillna(pd.Series(np.random.choice(fill, size=len(train.index))))"
   ]
  },
  {
   "cell_type": "code",
   "execution_count": 8,
   "metadata": {
    "collapsed": true
   },
   "outputs": [],
   "source": [
    "fill=['a','b','c','d','e','f','g','h','i','j','k','l','m','n','o','p','q','r','s','t','u','v']\n",
    "train['OCCUPATION'] = train['OCCUPATION'].fillna(pd.Series(np.random.choice(fill, size=len(train.index))))"
   ]
  },
  {
   "cell_type": "markdown",
   "metadata": {},
   "source": [
    "# 再看一下資料"
   ]
  },
  {
   "cell_type": "code",
   "execution_count": 9,
   "metadata": {},
   "outputs": [
    {
     "name": "stdout",
     "output_type": "stream",
     "text": [
      "<class 'pandas.core.frame.DataFrame'>\n",
      "Int64Index: 239504 entries, 0 to 239503\n",
      "Data columns (total 32 columns):\n",
      "CUST_ID               239504 non-null int64\n",
      "BUY_TYPE              229504 non-null object\n",
      "AGE                   239504 non-null object\n",
      "SEX                   239504 non-null object\n",
      "HEIGHT                239504 non-null float64\n",
      "WEIGHT                239504 non-null float64\n",
      "OCCUPATION            239504 non-null object\n",
      "CHILD_NUM             239504 non-null int64\n",
      "BUY_MONTH             239504 non-null int64\n",
      "BUY_YEAR              239504 non-null object\n",
      "CITY_CODE             239504 non-null object\n",
      "BUDGET                239504 non-null float64\n",
      "MARRIAGE              239504 non-null object\n",
      "BEHAVIOR_1            239504 non-null object\n",
      "BEHAVIOR_2            239504 non-null object\n",
      "BEHAVIOR_3            239504 non-null object\n",
      "EDUCATION             239504 non-null object\n",
      "CHARGE_WAY            239504 non-null object\n",
      "IS_EMAIL              239504 non-null object\n",
      "IS_PHONE              239504 non-null object\n",
      "IS_APP                239504 non-null object\n",
      "IS_SPECIALMEMBER      239504 non-null object\n",
      "PARENTS_DEAD          239504 non-null object\n",
      "REAL_ESTATE_HAVE      239504 non-null object\n",
      "IS_MAJOR_INCOME       239504 non-null object\n",
      "BUY_TPY1_NUM_CLASS    239504 non-null object\n",
      "BUY_TPY2_NUM_CLASS    239504 non-null object\n",
      "BUY_TPY3_NUM_CLASS    239504 non-null object\n",
      "BUY_TPY4_NUM_CLASS    239504 non-null object\n",
      "BUY_TPY5_NUM_CLASS    239504 non-null object\n",
      "BUY_TPY6_NUM_CLASS    239504 non-null object\n",
      "BUY_TPY7_NUM_CLASS    239504 non-null object\n",
      "dtypes: float64(3), int64(3), object(26)\n",
      "memory usage: 60.3+ MB\n"
     ]
    }
   ],
   "source": [
    "train.info()"
   ]
  },
  {
   "cell_type": "code",
   "execution_count": 10,
   "metadata": {},
   "outputs": [
    {
     "name": "stderr",
     "output_type": "stream",
     "text": [
      "Using TensorFlow backend.\n",
      "/Users/charles/anaconda3/lib/python3.6/importlib/_bootstrap.py:219: RuntimeWarning: compiletime version 3.5 of module 'tensorflow.python.framework.fast_tensor_util' does not match runtime version 3.6\n",
      "  return f(*args, **kwds)\n",
      "/Users/charles/anaconda3/lib/python3.6/site-packages/h5py/__init__.py:34: FutureWarning: Conversion of the second argument of issubdtype from `float` to `np.floating` is deprecated. In future, it will be treated as `np.float64 == np.dtype(float).type`.\n",
      "  from ._conv import register_converters as _register_converters\n"
     ]
    }
   ],
   "source": [
    "from keras.models import Sequential\n",
    "from keras.layers.core import Dense, Activation, Reshape\n",
    "from keras.layers import Merge\n",
    "from keras.layers.embeddings import Embedding\n",
    "from keras.callbacks import ModelCheckpoint\n",
    "import h5py\n",
    "from keras.utils import np_utils\n",
    "from sklearn.preprocessing import LabelEncoder\n",
    "import copy\n",
    "from sklearn import preprocessing\n",
    "from keras.layers import Dropout"
   ]
  },
  {
   "cell_type": "markdown",
   "metadata": {},
   "source": [
    "# 懶得改下面代號 純粹多餘動作"
   ]
  },
  {
   "cell_type": "code",
   "execution_count": 11,
   "metadata": {
    "collapsed": true
   },
   "outputs": [],
   "source": [
    "train_2 = train"
   ]
  },
  {
   "cell_type": "markdown",
   "metadata": {},
   "source": [
    "# 把顧客編號、BUY_MONTH拿掉<br>\n",
    "# xtrain + xtest 做label encoder<br> \n",
    "# y = 預測目標"
   ]
  },
  {
   "cell_type": "code",
   "execution_count": 12,
   "metadata": {
    "collapsed": true
   },
   "outputs": [],
   "source": [
    "features_cat = [2,3,4,5,6,7,8,10,11,12,13,14,15,16,17,18,19,20,21,22,23,24,25,26,27,28,29,30,31]\n",
    "train_test =  train_2.iloc[:,features_cat]\n",
    "y = train_2.iloc[:,1]"
   ]
  },
  {
   "cell_type": "code",
   "execution_count": 13,
   "metadata": {
    "collapsed": true
   },
   "outputs": [],
   "source": [
    "train_test = copy.copy(train_test).values"
   ]
  },
  {
   "cell_type": "code",
   "execution_count": 14,
   "metadata": {
    "collapsed": true
   },
   "outputs": [],
   "source": [
    "les = []\n",
    "for i in range(train_test.shape[1]):\n",
    "    le = preprocessing.LabelEncoder()\n",
    "    le.fit(train_2.iloc[:,features_cat].iloc[:, i])\n",
    "    les.append(le)\n",
    "    train_test[:, i] = le.transform(train_test[:, i])\n",
    "#     X_test_dnn_cat[:, i] = le.transform(X_test_dnn_cat[:, i])"
   ]
  },
  {
   "cell_type": "markdown",
   "metadata": {},
   "source": [
    "# 看一下 x train + x test 的 shape"
   ]
  },
  {
   "cell_type": "code",
   "execution_count": 15,
   "metadata": {},
   "outputs": [
    {
     "name": "stdout",
     "output_type": "stream",
     "text": [
      "(239504, 29)\n"
     ]
    }
   ],
   "source": [
    "print(train_test.shape)"
   ]
  },
  {
   "cell_type": "code",
   "execution_count": 16,
   "metadata": {},
   "outputs": [
    {
     "data": {
      "text/plain": [
       "array([10, 0, 128, 56, 8, 0, 0, 20, 19152, 1, 0, 1, 0, 0, 1, 0, 1, 1, 1,\n",
       "       1, 1, 0, 3, 6, 4, 6, 6, 6, 6], dtype=object)"
      ]
     },
     "execution_count": 16,
     "metadata": {},
     "output_type": "execute_result"
    }
   ],
   "source": [
    "train_test[1]"
   ]
  },
  {
   "cell_type": "markdown",
   "metadata": {},
   "source": [
    "# seperate train and test"
   ]
  },
  {
   "cell_type": "code",
   "execution_count": 17,
   "metadata": {
    "collapsed": true
   },
   "outputs": [],
   "source": [
    "X_train = train_test[:229504,:]\n",
    "X_test = train_test[229504:,:]"
   ]
  },
  {
   "cell_type": "code",
   "execution_count": 18,
   "metadata": {},
   "outputs": [
    {
     "data": {
      "text/plain": [
       "array([[10, 0, 130, ..., 6, 6, 6],\n",
       "       [2, 1, 130, ..., 6, 5, 6],\n",
       "       [4, 1, 155, ..., 6, 6, 4],\n",
       "       ...,\n",
       "       [7, 1, 145, ..., 6, 5, 6],\n",
       "       [6, 1, 155, ..., 4, 4, 4],\n",
       "       [2, 0, 131, ..., 6, 4, 4]], dtype=object)"
      ]
     },
     "execution_count": 18,
     "metadata": {},
     "output_type": "execute_result"
    }
   ],
   "source": [
    "X_test"
   ]
  },
  {
   "cell_type": "code",
   "execution_count": 19,
   "metadata": {},
   "outputs": [
    {
     "name": "stdout",
     "output_type": "stream",
     "text": [
      "(229504, 29)\n"
     ]
    }
   ],
   "source": [
    "print(X_train.shape)"
   ]
  },
  {
   "cell_type": "code",
   "execution_count": 20,
   "metadata": {},
   "outputs": [
    {
     "data": {
      "text/plain": [
       "(229504,)"
      ]
     },
     "execution_count": 20,
     "metadata": {},
     "output_type": "execute_result"
    }
   ],
   "source": [
    "y = y[:229504,]\n",
    "y.shape"
   ]
  },
  {
   "cell_type": "markdown",
   "metadata": {},
   "source": [
    "# split train data into train and validation"
   ]
  },
  {
   "cell_type": "code",
   "execution_count": 21,
   "metadata": {
    "collapsed": true
   },
   "outputs": [],
   "source": [
    "msk = np.random.rand(len(X_train)) < 0.8"
   ]
  },
  {
   "cell_type": "code",
   "execution_count": 22,
   "metadata": {
    "collapsed": true
   },
   "outputs": [],
   "source": [
    "X_train_cat = X_train[msk]"
   ]
  },
  {
   "cell_type": "code",
   "execution_count": 23,
   "metadata": {
    "collapsed": true
   },
   "outputs": [],
   "source": [
    "X_test_cat = X_train[~msk]"
   ]
  },
  {
   "cell_type": "code",
   "execution_count": 24,
   "metadata": {
    "collapsed": true
   },
   "outputs": [],
   "source": [
    "X_train_dnn_cat = X_train_cat\n",
    "X_test_dnn_cat = X_test_cat"
   ]
  },
  {
   "cell_type": "code",
   "execution_count": 25,
   "metadata": {
    "collapsed": true
   },
   "outputs": [],
   "source": [
    "y_train = y[msk]"
   ]
  },
  {
   "cell_type": "code",
   "execution_count": 26,
   "metadata": {
    "collapsed": true
   },
   "outputs": [],
   "source": [
    "y_test = y[~msk]"
   ]
  },
  {
   "cell_type": "markdown",
   "metadata": {},
   "source": [
    "# also label encode variable y"
   ]
  },
  {
   "cell_type": "code",
   "execution_count": 27,
   "metadata": {
    "collapsed": true
   },
   "outputs": [],
   "source": [
    "# encode class values as integers\n",
    "encoder = LabelEncoder()\n",
    "encoder.fit(y_train)\n",
    "encoded_Y_train = encoder.transform(y_train)\n",
    "# convert integers to dummy variables (i.e. one hot encoded)\n",
    "dummy_y_train = np_utils.to_categorical(encoded_Y_train)"
   ]
  },
  {
   "cell_type": "code",
   "execution_count": 28,
   "metadata": {
    "collapsed": true
   },
   "outputs": [],
   "source": [
    "# encode class values as integers\n",
    "encoder = LabelEncoder()\n",
    "encoder.fit(y_test)\n",
    "encoded_Y_test = encoder.transform(y_test)\n",
    "# convert integers to dummy variables (i.e. one hot encoded)\n",
    "dummy_y_test = np_utils.to_categorical(encoded_Y_test)"
   ]
  },
  {
   "cell_type": "code",
   "execution_count": 29,
   "metadata": {},
   "outputs": [
    {
     "name": "stdout",
     "output_type": "stream",
     "text": [
      "(183556, 29)\n"
     ]
    }
   ],
   "source": [
    "print(X_train_dnn_cat.shape)"
   ]
  },
  {
   "cell_type": "code",
   "execution_count": 30,
   "metadata": {},
   "outputs": [
    {
     "data": {
      "text/plain": [
       "array([10, 0, 128, 56, 8, 0, 0, 20, 19152, 1, 0, 1, 0, 0, 1, 0, 1, 1, 1,\n",
       "       1, 1, 0, 3, 6, 4, 6, 6, 6, 6], dtype=object)"
      ]
     },
     "execution_count": 30,
     "metadata": {},
     "output_type": "execute_result"
    }
   ],
   "source": [
    "X_train_dnn_cat[1]"
   ]
  },
  {
   "cell_type": "code",
   "execution_count": 31,
   "metadata": {},
   "outputs": [
    {
     "data": {
      "text/plain": [
       "(183556,)"
      ]
     },
     "execution_count": 31,
     "metadata": {},
     "output_type": "execute_result"
    }
   ],
   "source": [
    "y_train.shape"
   ]
  },
  {
   "cell_type": "markdown",
   "metadata": {},
   "source": [
    "# ㄜ我想這就是一個自定義函數 大概是直觀ㄉsplit featureㄅ"
   ]
  },
  {
   "cell_type": "code",
   "execution_count": 32,
   "metadata": {
    "collapsed": true
   },
   "outputs": [],
   "source": [
    "#要embeddingㄉ 降維1/2倍\n",
    "\n",
    "def split_features(X):\n",
    "    X_list = []\n",
    "\n",
    "    AGE = X[..., [0]]\n",
    "    X_list.append(AGE)\n",
    "\n",
    "    SEX = X[..., [1]]\n",
    "    X_list.append(SEX)\n",
    "    \n",
    "    HEIGHT = X[..., [2]]\n",
    "    X_list.append(HEIGHT)\n",
    "    \n",
    "    WEIGHT = X[..., [3]]\n",
    "    X_list.append(WEIGHT)\n",
    "\n",
    "    OCCUPATION = X[..., [4]]\n",
    "    X_list.append(OCCUPATION)\n",
    "    \n",
    "    CHILD_NUM = X[..., [5]]\n",
    "    X_list.append(CHILD_NUM)\n",
    "\n",
    "    BUY_MONTH = X[..., [6]]\n",
    "    X_list.append(BUY_MONTH)\n",
    "\n",
    "    CITY_CODE = X[..., [7]]\n",
    "    X_list.append(CITY_CODE)\n",
    "    \n",
    "    BUDGET = X[..., [8]]\n",
    "    X_list.append(BUDGET)\n",
    "    \n",
    "    MARRIAGE = X[..., [9]]\n",
    "    X_list.append(MARRIAGE)\n",
    "\n",
    "    BEHAVIOR_1 = X[..., [10]]\n",
    "    X_list.append(BEHAVIOR_1)\n",
    "    \n",
    "    BEHAVIOR_2 = X[..., [11]]\n",
    "    X_list.append(BEHAVIOR_2)\n",
    "\n",
    "    BEHAVIOR_3 = X[..., [12]]\n",
    "    X_list.append(BEHAVIOR_3)\n",
    "\n",
    "    EDUCATION = X[..., [13]]\n",
    "    X_list.append(EDUCATION)\n",
    "\n",
    "    CHARGE_WAY = X[..., [14]]\n",
    "    X_list.append(CHARGE_WAY)\n",
    "\n",
    "    IS_MAIL = X[..., [15]]\n",
    "    X_list.append(IS_MAIL)\n",
    "    \n",
    "    IS_PHONE = X[..., [16]]\n",
    "    X_list.append(IS_PHONE)\n",
    "\n",
    "    IS_APP = X[..., [17]]\n",
    "    X_list.append(IS_APP)\n",
    "\n",
    "    IS_SPECIALMEMBER = X[..., [18]]\n",
    "    X_list.append(IS_SPECIALMEMBER)\n",
    "\n",
    "    PARENTS_DEAD = X[..., [19]]\n",
    "    X_list.append(PARENTS_DEAD)\n",
    "\n",
    "    REAL_ESTATE_HAVE = X[..., [20]]\n",
    "    X_list.append(REAL_ESTATE_HAVE)\n",
    "\n",
    "    IS_MAJOR_INCOME = X[..., [21]]\n",
    "    X_list.append(IS_MAJOR_INCOME)\n",
    "\n",
    "    BUY_TYP1_NUM_CLASS = X[..., [22]]\n",
    "    X_list.append(BUY_TYP1_NUM_CLASS)\n",
    "\n",
    "    BUY_TYP2_NUM_CLASS = X[..., [23]]\n",
    "    X_list.append(BUY_TYP2_NUM_CLASS)\n",
    "\n",
    "    BUY_TYP3_NUM_CLASS = X[..., [24]]\n",
    "    X_list.append(BUY_TYP3_NUM_CLASS)\n",
    "\n",
    "    BUY_TYP4_NUM_CLASS = X[..., [25]]\n",
    "    X_list.append(BUY_TYP4_NUM_CLASS)\n",
    "\n",
    "    BUY_TYP5_NUM_CLASS = X[..., [26]]\n",
    "    X_list.append(BUY_TYP5_NUM_CLASS)\n",
    "\n",
    "    BUY_TYP6_NUM_CLASS = X[..., [27]]\n",
    "    X_list.append(BUY_TYP6_NUM_CLASS)\n",
    "\n",
    "    BUY_TYP7_NUM_CLASS = X[..., [28]]\n",
    "    X_list.append(BUY_TYP7_NUM_CLASS)\n",
    "\n",
    "    return X_list"
   ]
  },
  {
   "cell_type": "markdown",
   "metadata": {},
   "source": [
    "# 好ㄛ 來ㄍembedding 不要懷疑 就是這樣"
   ]
  },
  {
   "cell_type": "code",
   "execution_count": 62,
   "metadata": {
    "collapsed": true
   },
   "outputs": [],
   "source": [
    "class NN_with_EntityEmbedding():\n",
    "    def __init__(self, X_train, y_train, X_val, y_val, X_test):\n",
    "        self.nb_epoch = 30\n",
    "        self.__build_keras_model()\n",
    "        self.fit(X_train, y_train, X_val, y_val)\n",
    "        self.predict(X_test)\n",
    "\n",
    "    def preprocessing(self, X):\n",
    "        X_list = split_features(X)\n",
    "        return X_list\n",
    "    def __build_keras_model(self):\n",
    "        models = []\n",
    "        \n",
    "        model_AGE = Sequential()\n",
    "        model_AGE.add(Embedding(len(les[0].classes_), 8, input_length=1))\n",
    "        model_AGE.add(Reshape(target_shape=(8,)))\n",
    "        models.append(model_AGE)\n",
    "        \n",
    "        model_SEX = Sequential()\n",
    "        model_SEX.add(Embedding(len(les[1].classes_), 1, input_length=1))\n",
    "        model_SEX.add(Reshape(target_shape=(1,)))\n",
    "        models.append(model_SEX)\n",
    "        \n",
    "        model_HEIGHT = Sequential()\n",
    "        model_HEIGHT.add(Embedding(len(les[2].classes_),1, input_length=1))\n",
    "        model_HEIGHT.add(Reshape(target_shape=(1,)))\n",
    "        models.append(model_HEIGHT)\n",
    "        \n",
    "        model_WEIGHT = Sequential()\n",
    "        model_WEIGHT.add(Embedding(len(les[3].classes_),1, input_length=1))\n",
    "        model_WEIGHT.add(Reshape(target_shape=(1,)))\n",
    "        models.append(model_WEIGHT)\n",
    "\n",
    "        model_OCCUPATION = Sequential()\n",
    "        model_OCCUPATION.add(Embedding(len(les[4].classes_), 11, input_length=1))\n",
    "        model_OCCUPATION.add(Reshape(target_shape=(11,)))\n",
    "        models.append(model_OCCUPATION)\n",
    "        \n",
    "        model_CHILD_NUM = Sequential()\n",
    "        model_CHILD_NUM.add(Embedding(len(les[5].classes_),1, input_length=1))\n",
    "        model_CHILD_NUM.add(Reshape(target_shape=(1,)))\n",
    "        models.append(model_CHILD_NUM)\n",
    "        \n",
    "        model_BUY_MONTH = Sequential()\n",
    "        model_BUY_MONTH.add(Embedding(len(les[6].classes_), 6, input_length=1))\n",
    "        model_BUY_MONTH.add(Reshape(target_shape=(6,)))\n",
    "        models.append(model_BUY_MONTH)\n",
    "        \n",
    "        model_CITY_CODE = Sequential()\n",
    "        model_CITY_CODE.add(Embedding(len(les[7].classes_), 11, input_length=1))\n",
    "        model_CITY_CODE.add(Reshape(target_shape=(11,)))\n",
    "        models.append(model_CITY_CODE)\n",
    "        \n",
    "        model_BUDGET = Sequential()\n",
    "        model_BUDGET.add(Embedding(len(les[8].classes_),1, input_length=1))\n",
    "        model_BUDGET.add(Reshape(target_shape=(1,)))\n",
    "        models.append(model_BUDGET)\n",
    "\n",
    "        model_MARRIAGE = Sequential()\n",
    "        model_MARRIAGE.add(Embedding(len(les[9].classes_), 3, input_length=1))\n",
    "        model_MARRIAGE.add(Reshape(target_shape=(3,)))\n",
    "        models.append(model_MARRIAGE)\n",
    "        \n",
    "        model_BEHAVIOR_1 = Sequential()\n",
    "        model_BEHAVIOR_1.add(Embedding(len(les[10].classes_), 1, input_length=1))\n",
    "        model_BEHAVIOR_1.add(Reshape(target_shape=(1,)))\n",
    "        models.append(model_BEHAVIOR_1)\n",
    "        \n",
    "        model_BEHAVIOR_2 = Sequential()\n",
    "        model_BEHAVIOR_2.add(Embedding(len(les[11].classes_), 1, input_length=1))\n",
    "        model_BEHAVIOR_2.add(Reshape(target_shape=(1,)))\n",
    "        models.append(model_BEHAVIOR_2)\n",
    "        \n",
    "        model_BEHAVIOR_3 = Sequential()\n",
    "        model_BEHAVIOR_3.add(Embedding(len(les[12].classes_), 1, input_length=1))\n",
    "        model_BEHAVIOR_3.add(Reshape(target_shape=(1,)))\n",
    "        models.append(model_BEHAVIOR_3)\n",
    "        \n",
    "        model_EDUCATION = Sequential()\n",
    "        model_EDUCATION.add(Embedding(len(les[13].classes_), 2, input_length=1))\n",
    "        model_EDUCATION.add(Reshape(target_shape=(2,)))\n",
    "        models.append(model_EDUCATION)\n",
    "        \n",
    "        model_CHARGE_WAY = Sequential()\n",
    "        model_CHARGE_WAY.add(Embedding(len(les[14].classes_), 1, input_length=1))\n",
    "        model_CHARGE_WAY.add(Reshape(target_shape=(1,)))\n",
    "        models.append(model_CHARGE_WAY)\n",
    "        \n",
    "        model_IS_EMAIL = Sequential()\n",
    "        model_IS_EMAIL.add(Embedding(len(les[15].classes_), 1, input_length=1))\n",
    "        model_IS_EMAIL.add(Reshape(target_shape=(1,)))\n",
    "        models.append(model_IS_EMAIL)\n",
    "        \n",
    "        model_IS_PHONE = Sequential()\n",
    "        model_IS_PHONE.add(Embedding(len(les[16].classes_), 1, input_length=1))\n",
    "        model_IS_PHONE.add(Reshape(target_shape=(1,)))\n",
    "        models.append(model_IS_PHONE)\n",
    "        \n",
    "        model_IS_APP = Sequential()\n",
    "        model_IS_APP.add(Embedding(len(les[17].classes_), 1, input_length=1))\n",
    "        model_IS_APP.add(Reshape(target_shape=(1,)))\n",
    "        models.append(model_IS_APP)\n",
    "\n",
    "        model_IS_SPECIALMEMBER = Sequential()\n",
    "        model_IS_SPECIALMEMBER.add(Embedding(len(les[18].classes_), 1, input_length=1))\n",
    "        model_IS_SPECIALMEMBER.add(Reshape(target_shape=(1,)))\n",
    "        models.append(model_IS_SPECIALMEMBER)\n",
    "        \n",
    "        PARENTS_DEAD = Sequential()\n",
    "        PARENTS_DEAD.add(Embedding(len(les[19].classes_), 1, input_length=1))\n",
    "        PARENTS_DEAD.add(Reshape(target_shape=(1,)))\n",
    "        models.append(PARENTS_DEAD)\n",
    "        \n",
    "        REAL_ESTATE_HAVE = Sequential()\n",
    "        REAL_ESTATE_HAVE.add(Embedding(len(les[20].classes_), 1, input_length=1))\n",
    "        REAL_ESTATE_HAVE.add(Reshape(target_shape=(1,)))\n",
    "        models.append(REAL_ESTATE_HAVE)\n",
    "        \n",
    "        IS_MAJOR_INCOME = Sequential()\n",
    "        IS_MAJOR_INCOME.add(Embedding(len(les[21].classes_), 3, input_length=1))\n",
    "        IS_MAJOR_INCOME.add(Reshape(target_shape=(3,)))\n",
    "        models.append(IS_MAJOR_INCOME)\n",
    "        \n",
    "        BUY_TYP1_NUM_CLASS = Sequential()\n",
    "        BUY_TYP1_NUM_CLASS.add(Embedding(len(les[22].classes_), 3, input_length=1))\n",
    "        BUY_TYP1_NUM_CLASS.add(Reshape(target_shape=(3,)))\n",
    "        models.append(BUY_TYP1_NUM_CLASS)\n",
    "        \n",
    "        BUY_TYP2_NUM_CLASS = Sequential()\n",
    "        BUY_TYP2_NUM_CLASS.add(Embedding(len(les[23].classes_), 2, input_length=1))\n",
    "        BUY_TYP2_NUM_CLASS.add(Reshape(target_shape=(2,)))\n",
    "        models.append(BUY_TYP2_NUM_CLASS)\n",
    "        \n",
    "        BUY_TYP3_NUM_CLASS = Sequential()\n",
    "        BUY_TYP3_NUM_CLASS.add(Embedding(len(les[24].classes_), 2, input_length=1))\n",
    "        BUY_TYP3_NUM_CLASS.add(Reshape(target_shape=(2,)))\n",
    "        models.append(BUY_TYP3_NUM_CLASS)\n",
    "        \n",
    "        BUY_TPY4_NUM_CLASS = Sequential()\n",
    "        BUY_TPY4_NUM_CLASS.add(Embedding(len(les[25].classes_), 3, input_length=1))\n",
    "        BUY_TPY4_NUM_CLASS.add(Reshape(target_shape=(3,)))\n",
    "        models.append(BUY_TPY4_NUM_CLASS)\n",
    "        \n",
    "        BUY_TPY5_NUM_CLASS = Sequential()\n",
    "        BUY_TPY5_NUM_CLASS.add(Embedding(len(les[26].classes_), 3, input_length=1))\n",
    "        BUY_TPY5_NUM_CLASS.add(Reshape(target_shape=(3,)))\n",
    "        models.append(BUY_TPY5_NUM_CLASS)\n",
    "        \n",
    "        BUY_TPY6_NUM_CLASS = Sequential()\n",
    "        BUY_TPY6_NUM_CLASS.add(Embedding(len(les[27].classes_), 3, input_length=1))\n",
    "        BUY_TPY6_NUM_CLASS.add(Reshape(target_shape=(3,)))\n",
    "        models.append(BUY_TPY6_NUM_CLASS)\n",
    "        \n",
    "        BUY_TPY7_NUM_CLASS = Sequential()\n",
    "        BUY_TPY7_NUM_CLASS.add(Embedding(len(les[28].classes_), 3, input_length=1))\n",
    "        BUY_TPY7_NUM_CLASS.add(Reshape(target_shape=(3,)))\n",
    "        models.append(BUY_TPY7_NUM_CLASS)\n",
    "    \n",
    "        self.model = Sequential()\n",
    "        self.model.add(Merge(models, mode='concat'))\n",
    "#         self.model.add(Dense(128))\n",
    "#         self.model.add(Activation('relu'))\n",
    "#         self.model.add(Dense(256))\n",
    "#         self.model.add(Activation('relu'))\n",
    "        self.model.add(Dense(150))\n",
    "        self.model.add(Activation('relu'))\n",
    "#         self.model.add(Dense(500))\n",
    "#         self.model.add(Activation('relu'))\n",
    "        self.model.add(Dense(500))\n",
    "        self.model.add(Activation('relu'))\n",
    "        self.model.add(Dense(7))\n",
    "        self.model.add(Activation('softmax'))\n",
    "        self.model.compile(loss='categorical_crossentropy',optimizer=Adam(lr=0.001, beta_1=0.9, beta_2=0.999, epsilon=1e-08),metrics=['acc'])\n",
    "        self.model.summary()\n",
    "        \n",
    "    def fit(self, X_train, y_train, X_val, y_val):\n",
    "        self.model.fit(self.preprocessing(X_train), y_train,\n",
    "                       validation_data=(self.preprocessing(X_val), y_val),\n",
    "                       nb_epoch=self.nb_epoch, batch_size=250) #128\n",
    "        \n",
    "    def predict(self, X_test):\n",
    "        result = self.model.predict(self.preprocessing(X_test))\n",
    "        return result"
   ]
  },
  {
   "cell_type": "markdown",
   "metadata": {},
   "source": [
    "# 跑一下"
   ]
  },
  {
   "cell_type": "code",
   "execution_count": 63,
   "metadata": {},
   "outputs": [
    {
     "data": {
      "text/plain": [
       "(10000, 29)"
      ]
     },
     "execution_count": 63,
     "metadata": {},
     "output_type": "execute_result"
    }
   ],
   "source": [
    "X_test.shape"
   ]
  },
  {
   "cell_type": "code",
   "execution_count": 66,
   "metadata": {
    "collapsed": true
   },
   "outputs": [],
   "source": [
    "from keras.optimizers import SGD,Adagrad,Adadelta,RMSprop,Adamax,Adam"
   ]
  },
  {
   "cell_type": "code",
   "execution_count": 67,
   "metadata": {},
   "outputs": [
    {
     "name": "stdout",
     "output_type": "stream",
     "text": [
      "____________________________________________________________________________________________________\n",
      "Layer (type)                     Output Shape          Param #     Connected to                     \n",
      "====================================================================================================\n",
      "embedding_291 (Embedding)        (None, 1, 8)          136                                          \n",
      "____________________________________________________________________________________________________\n",
      "reshape_291 (Reshape)            (None, 8)             0                                            \n",
      "____________________________________________________________________________________________________\n",
      "embedding_292 (Embedding)        (None, 1, 1)          2                                            \n",
      "____________________________________________________________________________________________________\n",
      "reshape_292 (Reshape)            (None, 1)             0                                            \n",
      "____________________________________________________________________________________________________\n",
      "embedding_293 (Embedding)        (None, 1, 1)          175                                          \n",
      "____________________________________________________________________________________________________\n",
      "reshape_293 (Reshape)            (None, 1)             0                                            \n",
      "____________________________________________________________________________________________________\n",
      "embedding_294 (Embedding)        (None, 1, 1)          144                                          \n",
      "____________________________________________________________________________________________________\n",
      "reshape_294 (Reshape)            (None, 1)             0                                            \n",
      "____________________________________________________________________________________________________\n",
      "embedding_295 (Embedding)        (None, 1, 11)         242                                          \n",
      "____________________________________________________________________________________________________\n",
      "reshape_295 (Reshape)            (None, 11)            0                                            \n",
      "____________________________________________________________________________________________________\n",
      "embedding_296 (Embedding)        (None, 1, 1)          11                                           \n",
      "____________________________________________________________________________________________________\n",
      "reshape_296 (Reshape)            (None, 1)             0                                            \n",
      "____________________________________________________________________________________________________\n",
      "embedding_297 (Embedding)        (None, 1, 6)          72                                           \n",
      "____________________________________________________________________________________________________\n",
      "reshape_297 (Reshape)            (None, 6)             0                                            \n",
      "____________________________________________________________________________________________________\n",
      "embedding_298 (Embedding)        (None, 1, 11)         253                                          \n",
      "____________________________________________________________________________________________________\n",
      "reshape_298 (Reshape)            (None, 11)            0                                            \n",
      "____________________________________________________________________________________________________\n",
      "embedding_299 (Embedding)        (None, 1, 1)          20483                                        \n",
      "____________________________________________________________________________________________________\n",
      "reshape_299 (Reshape)            (None, 1)             0                                            \n",
      "____________________________________________________________________________________________________\n",
      "embedding_300 (Embedding)        (None, 1, 3)          18                                           \n",
      "____________________________________________________________________________________________________\n",
      "reshape_300 (Reshape)            (None, 3)             0                                            \n",
      "____________________________________________________________________________________________________\n",
      "embedding_301 (Embedding)        (None, 1, 1)          3                                            \n",
      "____________________________________________________________________________________________________\n",
      "reshape_301 (Reshape)            (None, 1)             0                                            \n",
      "____________________________________________________________________________________________________\n",
      "embedding_302 (Embedding)        (None, 1, 1)          3                                            \n",
      "____________________________________________________________________________________________________\n",
      "reshape_302 (Reshape)            (None, 1)             0                                            \n",
      "____________________________________________________________________________________________________\n",
      "embedding_303 (Embedding)        (None, 1, 1)          3                                            \n",
      "____________________________________________________________________________________________________\n",
      "reshape_303 (Reshape)            (None, 1)             0                                            \n",
      "____________________________________________________________________________________________________\n",
      "embedding_304 (Embedding)        (None, 1, 2)          8                                            \n",
      "____________________________________________________________________________________________________\n",
      "reshape_304 (Reshape)            (None, 2)             0                                            \n",
      "____________________________________________________________________________________________________\n",
      "embedding_305 (Embedding)        (None, 1, 1)          2                                            \n",
      "____________________________________________________________________________________________________\n",
      "reshape_305 (Reshape)            (None, 1)             0                                            \n",
      "____________________________________________________________________________________________________\n",
      "embedding_306 (Embedding)        (None, 1, 1)          2                                            \n",
      "____________________________________________________________________________________________________\n",
      "reshape_306 (Reshape)            (None, 1)             0                                            \n",
      "____________________________________________________________________________________________________\n",
      "embedding_307 (Embedding)        (None, 1, 1)          2                                            \n",
      "____________________________________________________________________________________________________\n",
      "reshape_307 (Reshape)            (None, 1)             0                                            \n",
      "____________________________________________________________________________________________________\n",
      "embedding_308 (Embedding)        (None, 1, 1)          2                                            \n",
      "____________________________________________________________________________________________________\n",
      "reshape_308 (Reshape)            (None, 1)             0                                            \n",
      "____________________________________________________________________________________________________\n",
      "embedding_309 (Embedding)        (None, 1, 1)          2                                            \n",
      "____________________________________________________________________________________________________\n",
      "reshape_309 (Reshape)            (None, 1)             0                                            \n",
      "____________________________________________________________________________________________________\n",
      "embedding_310 (Embedding)        (None, 1, 1)          2                                            \n",
      "____________________________________________________________________________________________________\n",
      "reshape_310 (Reshape)            (None, 1)             0                                            \n",
      "____________________________________________________________________________________________________\n",
      "embedding_311 (Embedding)        (None, 1, 1)          2                                            \n",
      "____________________________________________________________________________________________________\n",
      "reshape_311 (Reshape)            (None, 1)             0                                            \n",
      "____________________________________________________________________________________________________\n",
      "embedding_312 (Embedding)        (None, 1, 3)          6                                            \n",
      "____________________________________________________________________________________________________\n",
      "reshape_312 (Reshape)            (None, 3)             0                                            \n",
      "____________________________________________________________________________________________________\n",
      "embedding_313 (Embedding)        (None, 1, 3)          21                                           \n",
      "____________________________________________________________________________________________________\n",
      "reshape_313 (Reshape)            (None, 3)             0                                            \n",
      "____________________________________________________________________________________________________\n",
      "embedding_314 (Embedding)        (None, 1, 2)          14                                           \n",
      "____________________________________________________________________________________________________\n",
      "reshape_314 (Reshape)            (None, 2)             0                                            \n",
      "____________________________________________________________________________________________________\n",
      "embedding_315 (Embedding)        (None, 1, 2)          10                                           \n",
      "____________________________________________________________________________________________________\n",
      "reshape_315 (Reshape)            (None, 2)             0                                            \n",
      "____________________________________________________________________________________________________\n",
      "embedding_316 (Embedding)        (None, 1, 3)          21                                           \n",
      "____________________________________________________________________________________________________\n",
      "reshape_316 (Reshape)            (None, 3)             0                                            \n",
      "____________________________________________________________________________________________________\n",
      "embedding_317 (Embedding)        (None, 1, 3)          21                                           \n",
      "____________________________________________________________________________________________________\n",
      "reshape_317 (Reshape)            (None, 3)             0                                            \n",
      "____________________________________________________________________________________________________\n",
      "embedding_318 (Embedding)        (None, 1, 3)          21                                           \n",
      "____________________________________________________________________________________________________\n",
      "reshape_318 (Reshape)            (None, 3)             0                                            \n",
      "____________________________________________________________________________________________________\n",
      "embedding_319 (Embedding)        (None, 1, 3)          21                                           \n",
      "____________________________________________________________________________________________________\n",
      "reshape_319 (Reshape)            (None, 3)             0                                            \n",
      "____________________________________________________________________________________________________\n",
      "dense_31 (Dense)                 (None, 150)           11850       merge_11[0][0]                   \n",
      "____________________________________________________________________________________________________\n",
      "activation_31 (Activation)       (None, 150)           0           dense_31[0][0]                   \n",
      "____________________________________________________________________________________________________\n",
      "dense_32 (Dense)                 (None, 500)           75500       activation_31[0][0]              \n",
      "____________________________________________________________________________________________________\n",
      "activation_32 (Activation)       (None, 500)           0           dense_32[0][0]                   \n",
      "____________________________________________________________________________________________________\n",
      "dense_33 (Dense)                 (None, 7)             3507        activation_32[0][0]              \n",
      "____________________________________________________________________________________________________\n",
      "activation_33 (Activation)       (None, 7)             0           dense_33[0][0]                   \n",
      "====================================================================================================\n",
      "Total params: 112,559\n",
      "Trainable params: 112,559\n",
      "Non-trainable params: 0\n",
      "____________________________________________________________________________________________________\n",
      "Train on 183556 samples, validate on 45948 samples\n",
      "Epoch 1/30\n"
     ]
    },
    {
     "name": "stdout",
     "output_type": "stream",
     "text": [
      "183556/183556 [==============================] - 11s - loss: 0.2911 - acc: 0.8972 - val_loss: 0.1793 - val_acc: 0.9298\n",
      "Epoch 2/30\n",
      "183556/183556 [==============================] - 9s - loss: 0.1551 - acc: 0.9397 - val_loss: 0.1608 - val_acc: 0.9383\n",
      "Epoch 3/30\n",
      "183556/183556 [==============================] - 9s - loss: 0.1374 - acc: 0.9474 - val_loss: 0.1579 - val_acc: 0.9394\n",
      "Epoch 4/30\n",
      "183556/183556 [==============================] - 9s - loss: 0.1262 - acc: 0.9521 - val_loss: 0.1554 - val_acc: 0.9413\n",
      "Epoch 5/30\n",
      "183556/183556 [==============================] - 9s - loss: 0.1170 - acc: 0.9559 - val_loss: 0.1498 - val_acc: 0.9453\n",
      "Epoch 6/30\n",
      "183556/183556 [==============================] - 9s - loss: 0.1097 - acc: 0.9591 - val_loss: 0.1513 - val_acc: 0.9444\n",
      "Epoch 7/30\n",
      "183556/183556 [==============================] - 9s - loss: 0.1038 - acc: 0.9617 - val_loss: 0.1479 - val_acc: 0.9468\n",
      "Epoch 8/30\n",
      "183556/183556 [==============================] - 9s - loss: 0.0985 - acc: 0.9640 - val_loss: 0.1458 - val_acc: 0.9483\n",
      "Epoch 9/30\n",
      "183556/183556 [==============================] - 9s - loss: 0.0937 - acc: 0.9659 - val_loss: 0.1435 - val_acc: 0.9509\n",
      "Epoch 10/30\n",
      "183556/183556 [==============================] - 9s - loss: 0.0895 - acc: 0.9673 - val_loss: 0.1508 - val_acc: 0.9489\n",
      "Epoch 11/30\n",
      "183556/183556 [==============================] - 9s - loss: 0.0863 - acc: 0.9686 - val_loss: 0.1463 - val_acc: 0.9494\n",
      "Epoch 12/30\n",
      "183556/183556 [==============================] - 9s - loss: 0.0834 - acc: 0.9698 - val_loss: 0.1489 - val_acc: 0.9508\n",
      "Epoch 13/30\n",
      "183556/183556 [==============================] - 9s - loss: 0.0805 - acc: 0.9709 - val_loss: 0.1543 - val_acc: 0.9501\n",
      "Epoch 14/30\n",
      "183556/183556 [==============================] - 9s - loss: 0.0776 - acc: 0.9718 - val_loss: 0.1550 - val_acc: 0.9510\n",
      "Epoch 15/30\n",
      "183556/183556 [==============================] - 9s - loss: 0.0750 - acc: 0.9725 - val_loss: 0.1663 - val_acc: 0.9480\n",
      "Epoch 16/30\n",
      "183556/183556 [==============================] - 9s - loss: 0.0726 - acc: 0.9733 - val_loss: 0.1639 - val_acc: 0.9500\n",
      "Epoch 17/30\n",
      "183556/183556 [==============================] - 9s - loss: 0.0692 - acc: 0.9744 - val_loss: 0.1689 - val_acc: 0.9484\n",
      "Epoch 18/30\n",
      "183556/183556 [==============================] - 9s - loss: 0.0672 - acc: 0.9756 - val_loss: 0.1700 - val_acc: 0.9498\n",
      "Epoch 19/30\n",
      "183556/183556 [==============================] - 9s - loss: 0.0642 - acc: 0.9764 - val_loss: 0.1698 - val_acc: 0.9489\n",
      "Epoch 20/30\n",
      "183556/183556 [==============================] - 9s - loss: 0.0615 - acc: 0.9773 - val_loss: 0.1814 - val_acc: 0.9467\n",
      "Epoch 21/30\n",
      "183556/183556 [==============================] - 9s - loss: 0.0589 - acc: 0.9782 - val_loss: 0.1823 - val_acc: 0.9469\n",
      "Epoch 22/30\n",
      "183556/183556 [==============================] - 9s - loss: 0.0568 - acc: 0.9791 - val_loss: 0.1927 - val_acc: 0.9479\n",
      "Epoch 23/30\n",
      "183556/183556 [==============================] - 9s - loss: 0.0540 - acc: 0.9802 - val_loss: 0.1924 - val_acc: 0.9474\n",
      "Epoch 24/30\n",
      "183556/183556 [==============================] - 9s - loss: 0.0514 - acc: 0.9810 - val_loss: 0.1921 - val_acc: 0.9482\n",
      "Epoch 25/30\n",
      "183556/183556 [==============================] - 9s - loss: 0.0490 - acc: 0.9820 - val_loss: 0.2034 - val_acc: 0.9474\n",
      "Epoch 26/30\n",
      "183556/183556 [==============================] - 9s - loss: 0.0461 - acc: 0.9832 - val_loss: 0.2075 - val_acc: 0.9464\n",
      "Epoch 27/30\n",
      "183556/183556 [==============================] - 9s - loss: 0.0438 - acc: 0.9842 - val_loss: 0.2164 - val_acc: 0.9461\n",
      "Epoch 28/30\n",
      "183556/183556 [==============================] - 9s - loss: 0.0413 - acc: 0.9847 - val_loss: 0.2229 - val_acc: 0.9458\n",
      "Epoch 29/30\n",
      "183556/183556 [==============================] - 9s - loss: 0.0393 - acc: 0.9856 - val_loss: 0.2330 - val_acc: 0.9455\n",
      "Epoch 30/30\n",
      "183556/183556 [==============================] - 9s - loss: 0.0365 - acc: 0.9868 - val_loss: 0.2373 - val_acc: 0.9466\n"
     ]
    }
   ],
   "source": [
    "dnn = NN_with_EntityEmbedding(X_train_dnn_cat, dummy_y_train, X_test_dnn_cat, dummy_y_test, X_test)   "
   ]
  },
  {
   "cell_type": "code",
   "execution_count": 68,
   "metadata": {
    "collapsed": true
   },
   "outputs": [],
   "source": [
    "weights = dnn.model.get_weights()"
   ]
  },
  {
   "cell_type": "code",
   "execution_count": 69,
   "metadata": {
    "collapsed": true
   },
   "outputs": [],
   "source": [
    "pred = dnn.predict(X_test)"
   ]
  },
  {
   "cell_type": "code",
   "execution_count": 70,
   "metadata": {},
   "outputs": [
    {
     "data": {
      "text/plain": [
       "(10000, 7)"
      ]
     },
     "execution_count": 70,
     "metadata": {},
     "output_type": "execute_result"
    }
   ],
   "source": [
    "pred.shape"
   ]
  },
  {
   "cell_type": "code",
   "execution_count": 71,
   "metadata": {
    "collapsed": true
   },
   "outputs": [],
   "source": [
    "df = pd.DataFrame(pred)"
   ]
  },
  {
   "cell_type": "code",
   "execution_count": 72,
   "metadata": {
    "collapsed": true
   },
   "outputs": [],
   "source": [
    "df['max_value'] = pred.max(axis=1)"
   ]
  },
  {
   "cell_type": "code",
   "execution_count": 73,
   "metadata": {
    "collapsed": true
   },
   "outputs": [],
   "source": [
    "dic = {0:'a', 1:'b', 2:'c', 3:'d', 4:'e', 5:'f', 6:'g'}"
   ]
  },
  {
   "cell_type": "code",
   "execution_count": 74,
   "metadata": {
    "collapsed": true
   },
   "outputs": [],
   "source": [
    "a=np.array(df)"
   ]
  },
  {
   "cell_type": "code",
   "execution_count": 75,
   "metadata": {
    "collapsed": true
   },
   "outputs": [],
   "source": [
    "b = np.argmax(a, axis=1)"
   ]
  },
  {
   "cell_type": "code",
   "execution_count": 76,
   "metadata": {
    "collapsed": true
   },
   "outputs": [],
   "source": [
    "pred_result = pd.DataFrame(b).replace(dic)"
   ]
  },
  {
   "cell_type": "code",
   "execution_count": 77,
   "metadata": {
    "collapsed": true
   },
   "outputs": [],
   "source": [
    "pred_result = pd.concat([tbxi['CUST_ID'],pred_result], axis = 1)"
   ]
  },
  {
   "cell_type": "code",
   "execution_count": 78,
   "metadata": {
    "collapsed": true
   },
   "outputs": [],
   "source": [
    "pred_result.columns = ['CUST_ID', 'BUY_TYPE']"
   ]
  },
  {
   "cell_type": "code",
   "execution_count": 83,
   "metadata": {
    "collapsed": true,
    "scrolled": true
   },
   "outputs": [],
   "source": [
    "pred_result.to_csv('submit.csv')"
   ]
  },
  {
   "cell_type": "code",
   "execution_count": 80,
   "metadata": {},
   "outputs": [
    {
     "data": {
      "text/plain": [
       "<matplotlib.axes._subplots.AxesSubplot at 0x150215630>"
      ]
     },
     "execution_count": 80,
     "metadata": {},
     "output_type": "execute_result"
    },
    {
     "data": {
      "image/png": "[encoded data removed]",
      "text/plain": [
       "<matplotlib.figure.Figure at 0x153ef1438>"
      ]
     },
     "metadata": {},
     "output_type": "display_data"
    }
   ],
   "source": [
    "pred_result['BUY_TYPE'].value_counts().plot(kind='bar')"
   ]
  },
  {
   "cell_type": "code",
   "execution_count": 81,
   "metadata": {},
   "outputs": [
    {
     "data": {
      "text/plain": [
       "<matplotlib.axes._subplots.AxesSubplot at 0x14e8b2cc0>"
      ]
     },
     "execution_count": 81,
     "metadata": {},
     "output_type": "execute_result"
    },
    {
     "data": {
      "image/png": "[encoded data removed]",
      "text/plain": [
       "<matplotlib.figure.Figure at 0x153ef1358>"
      ]
     },
     "metadata": {},
     "output_type": "display_data"
    }
   ],
   "source": [
    "tbi['BUY_TYPE'].value_counts().plot(kind='bar')"
   ]
  },
  {
   "cell_type": "code",
   "execution_count": 82,
   "metadata": {},
   "outputs": [
    {
     "data": {
      "text/plain": [
       "e    63511\n",
       "a    63141\n",
       "d    63097\n",
       "c    25371\n",
       "f     6782\n",
       "b     6772\n",
       "g      830\n",
       "Name: BUY_TYPE, dtype: int64"
      ]
     },
     "execution_count": 82,
     "metadata": {},
     "output_type": "execute_result"
    }
   ],
   "source": [
    "tbi['BUY_TYPE'].value_counts()"
   ]
  },
  {
   "cell_type": "code",
   "execution_count": null,
   "metadata": {
    "collapsed": true
   },
   "outputs": [],
   "source": []
  }
 ],
 "metadata": {
  "kernelspec": {
   "display_name": "Python 3",
   "language": "python",
   "name": "python3"
  },
  "language_info": {
   "codemirror_mode": {
    "name": "ipython",
    "version": 3
   },
   "file_extension": ".py",
   "mimetype": "text/x-python",
   "name": "python",
   "nbconvert_exporter": "python",
   "pygments_lexer": "ipython3",
   "version": "3.6.3"
  }
 },
 "nbformat": 4,
 "nbformat_minor": 2
}
